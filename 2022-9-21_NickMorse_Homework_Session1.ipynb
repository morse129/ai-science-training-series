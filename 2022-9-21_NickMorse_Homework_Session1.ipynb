{
  "nbformat": 4,
  "nbformat_minor": 0,
  "metadata": {
    "colab": {
      "provenance": [],
      "authorship_tag": "ABX9TyNgKXi4R3d5w/HFfGaQbcVi",
      "include_colab_link": true
    },
    "kernelspec": {
      "name": "python3",
      "display_name": "Python 3"
    },
    "language_info": {
      "name": "python"
    }
  },
  "cells": [
    {
      "cell_type": "markdown",
      "metadata": {
        "id": "view-in-github",
        "colab_type": "text"
      },
      "source": [
        "<a href=\"https://colab.research.google.com/github/morse129/ai-science-training-series/blob/main/2022-9-21_NickMorse_Homework_Session1.ipynb\" target=\"_parent\"><img src=\"https://colab.research.google.com/assets/colab-badge.svg\" alt=\"Open In Colab\"/></a>"
      ]
    },
    {
      "cell_type": "markdown",
      "source": [
        "#Homework 1 submission\n",
        "Nick Morse\n",
        "morse129@umn.edu"
      ],
      "metadata": {
        "id": "MbH19Tbb3t-4"
      }
    },
    {
      "cell_type": "code",
      "execution_count": null,
      "metadata": {
        "id": "_qsgYUCQ3Z-b"
      },
      "outputs": [],
      "source": []
    }
  ]
}