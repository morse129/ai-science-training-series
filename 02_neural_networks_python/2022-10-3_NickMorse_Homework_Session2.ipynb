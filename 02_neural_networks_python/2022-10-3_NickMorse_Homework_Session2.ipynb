{
  "cells": [
    {
      "cell_type": "markdown",
      "id": "5b33b8ae",
      "metadata": {
        "id": "5b33b8ae"
      },
      "source": [
        "**Homework 2**\n",
        "Nick Morse\n",
        "10/3/2022\n",
        "\n",
        "Update this notebook so that the accuracy is improved. How high can you get it? You could change things directly in the notebook, such as increasing the number of epochs, changing the learning weight, changing the width of the hidden layer, etc. If you're more ambitious, you could also try changing the model definition itself by checking out the associated Python files. For example, you could add more layers to the network. The current notebook has a training accuracy of about 43%, but will vary with randomness."
      ]
    },
    {
      "cell_type": "markdown",
      "source": [
        "Initially, I began increasing the learning rate until the point where the accuracy would jump up and down between epochs. The limit of the learning rate for this strategy was around 0.3, which produced an accuracy of up to 90 percent. This was also helped by increasing the number of epochs from 10 to 20, which was done since the loss graph showed that slope of the loss between iterations had not leveled off at 10 epochs. Dynamic learning rate adjustments per epoch using an exponential decay did not seem to improve the training accuracy. \n",
        "\n",
        "Finally, the batch size was lowered by trying different sizes from the initial size of 10000 down to 5000, 2000, and 1000. Decreasing the batch size down to 1000 was found to increase the initial rate of accuracy increase per epoch, as well as increasing the final training accuracy after all epochs were completed. The final accuracy achieved for this exercise is 97 percent after 20 epochs."
      ],
      "metadata": {
        "id": "tj2rTSNM2CwC"
      },
      "id": "tj2rTSNM2CwC"
    },
    {
      "cell_type": "code",
      "source": [
        "# Clone GitHub repo within Google Colab notebook for access to fc_net\n",
        "# This is not required on local machine with access to repository files\n",
        "!git clone https://github.com/argonne-lcf/ai-science-training-series.git\n",
        "%cd ai-science-training-series/02_neural_networks_python/"
      ],
      "metadata": {
        "id": "pjRle9TOVEuX",
        "outputId": "6e3f8b1e-4be9-41a6-871b-bc25bfe554ea",
        "colab": {
          "base_uri": "https://localhost:8080/"
        }
      },
      "id": "pjRle9TOVEuX",
      "execution_count": 1,
      "outputs": [
        {
          "output_type": "stream",
          "name": "stdout",
          "text": [
            "Cloning into 'ai-science-training-series'...\n",
            "remote: Enumerating objects: 1870, done.\u001b[K\n",
            "remote: Counting objects: 100% (23/23), done.\u001b[K\n",
            "remote: Compressing objects: 100% (23/23), done.\u001b[K\n",
            "remote: Total 1870 (delta 6), reused 16 (delta 0), pack-reused 1847\u001b[K\n",
            "Receiving objects: 100% (1870/1870), 208.15 MiB | 26.17 MiB/s, done.\n",
            "Resolving deltas: 100% (902/902), done.\n",
            "Checking out files: 100% (244/244), done.\n",
            "/content/ai-science-training-series/02_neural_networks_python\n"
          ]
        }
      ]
    },
    {
      "cell_type": "code",
      "execution_count": 2,
      "id": "817c7be1",
      "metadata": {
        "id": "817c7be1"
      },
      "outputs": [],
      "source": [
        "%load_ext autoreload\n",
        "%autoreload 2"
      ]
    },
    {
      "cell_type": "code",
      "execution_count": 3,
      "id": "628ac4b3",
      "metadata": {
        "id": "628ac4b3"
      },
      "outputs": [],
      "source": [
        "%matplotlib inline\n",
        "\n",
        "import tensorflow as tf\n",
        "\n",
        "import numpy\n",
        "import matplotlib.pyplot as plt"
      ]
    },
    {
      "cell_type": "code",
      "execution_count": 4,
      "id": "adecd460",
      "metadata": {
        "colab": {
          "base_uri": "https://localhost:8080/"
        },
        "id": "adecd460",
        "outputId": "b4932c52-5431-435c-cbc5-b6558ff5038b"
      },
      "outputs": [
        {
          "output_type": "stream",
          "name": "stdout",
          "text": [
            "Downloading data from https://storage.googleapis.com/tensorflow/tf-keras-datasets/mnist.npz\n",
            "11493376/11490434 [==============================] - 0s 0us/step\n",
            "11501568/11490434 [==============================] - 0s 0us/step\n",
            "(60000, 28, 28)\n",
            "(60000, 784)\n",
            "\n",
            "MNIST data loaded: train: 60000 test: 10000\n",
            "X_train: (60000, 784)\n",
            "y_train: (60000,)\n"
          ]
        }
      ],
      "source": [
        "# repeating the data prep from the previous notebook\n",
        "(x_train, y_train), (x_test, y_test) = tf.keras.datasets.mnist.load_data()\n",
        "x_train = x_train.astype(numpy.float32)\n",
        "x_test  = x_test.astype(numpy.float32)\n",
        "\n",
        "x_train /= 255.\n",
        "x_test  /= 255.\n",
        "\n",
        "print(x_train.shape)\n",
        "x_train = x_train.reshape(x_train.shape[0], numpy.prod(x_train[0,:,:].shape))\n",
        "x_test = x_test.reshape(x_test.shape[0], numpy.prod(x_test[0,:,:].shape))\n",
        "\n",
        "print(x_train.shape)\n",
        "y_train = y_train.astype(numpy.int32)\n",
        "y_test  = y_test.astype(numpy.int32)\n",
        "\n",
        "print()\n",
        "print('MNIST data loaded: train:',len(x_train),'test:',len(x_test))\n",
        "print('X_train:', x_train.shape)\n",
        "print('y_train:', y_train.shape)\n",
        "\n",
        "# one-hot encoding:\n",
        "nb_classes = 10\n",
        "y_train_onehot = tf.keras.utils.to_categorical(y_train, nb_classes)\n",
        "y_test_onehot = tf.keras.utils.to_categorical(y_test, nb_classes)"
      ]
    },
    {
      "cell_type": "code",
      "execution_count": 6,
      "id": "843e37a0",
      "metadata": {
        "id": "843e37a0"
      },
      "outputs": [],
      "source": [
        "# Here we import an implementation of a two-layer neural network \n",
        "# this code is based on pieces of the first assignment from Stanford's CSE231n course, \n",
        "# hosted at https://github.com/cs231n/cs231n.github.io with the MIT license\n",
        "\n",
        "# Need to run this on a computer instead of Google Colab to have it properly load the whole github folder\n",
        "from fc_net import TwoLayerNet"
      ]
    },
    {
      "cell_type": "code",
      "execution_count": 25,
      "id": "b15dd52d",
      "metadata": {
        "id": "b15dd52d"
      },
      "outputs": [],
      "source": [
        "num_features = x_train.shape[1] # this is the number of pixels\n",
        "# The weights are initialized from a normal distribution with standard deviation weight_scale\n",
        "model_fixed = TwoLayerNet(input_dim=num_features, hidden_dim=300, num_classes=nb_classes, weight_scale=.01)"
      ]
    },
    {
      "cell_type": "code",
      "execution_count": 19,
      "id": "36e1b16f",
      "metadata": {
        "id": "36e1b16f"
      },
      "outputs": [],
      "source": [
        "# here you can take a look if you want at the initial loss from an untrained network\n",
        "loss, gradients = model.loss(x_train, y_train_onehot)"
      ]
    },
    {
      "cell_type": "code",
      "execution_count": 9,
      "id": "f1281b7f",
      "metadata": {
        "id": "f1281b7f"
      },
      "outputs": [],
      "source": [
        "# a simple implementation of stochastic gradient descent\n",
        "def sgd(model, gradients, learning_rate):\n",
        "    for p, w in model.params.items():\n",
        "        dw = gradients[p]\n",
        "        new_weights = w - learning_rate * dw\n",
        "        model.params[p] = new_weights\n",
        "    return model"
      ]
    },
    {
      "cell_type": "code",
      "execution_count": 10,
      "id": "e570677a",
      "metadata": {
        "id": "e570677a"
      },
      "outputs": [],
      "source": [
        "# one training step\n",
        "def learn(model, x_train, y_train_onehot, learning_rate):\n",
        "    loss, gradients = model.loss(x_train, y_train_onehot)\n",
        "    model = sgd(model, gradients, learning_rate)\n",
        "    return loss, model"
      ]
    },
    {
      "cell_type": "code",
      "execution_count": 11,
      "id": "adce0809",
      "metadata": {
        "id": "adce0809"
      },
      "outputs": [],
      "source": [
        "def accuracy(model, x, true_values):\n",
        "    scores = model.loss(x)\n",
        "    predictions = numpy.argmax(scores, axis=1)\n",
        "    N = predictions.shape[0]\n",
        "    acc = (true_values == predictions).sum() / N\n",
        "    return acc"
      ]
    },
    {
      "cell_type": "code",
      "execution_count": 52,
      "id": "3da6f228",
      "metadata": {
        "id": "3da6f228",
        "outputId": "0f4a2a58-8fe6-45e1-b5fd-8799194e74f4",
        "colab": {
          "base_uri": "https://localhost:8080/",
          "height": 640
        }
      },
      "outputs": [
        {
          "output_type": "stream",
          "name": "stdout",
          "text": [
            "epoch 0, loss 0.51811, accuracy 0.86, learning rate 0.300\n",
            "epoch 1, loss 0.39008, accuracy 0.89, learning rate 0.300\n",
            "epoch 2, loss 0.30067, accuracy 0.91, learning rate 0.300\n",
            "epoch 3, loss 0.30470, accuracy 0.92, learning rate 0.300\n",
            "epoch 4, loss 0.28606, accuracy 0.92, learning rate 0.300\n",
            "epoch 5, loss 0.23273, accuracy 0.93, learning rate 0.300\n",
            "epoch 6, loss 0.25772, accuracy 0.93, learning rate 0.300\n",
            "epoch 7, loss 0.23341, accuracy 0.94, learning rate 0.300\n",
            "epoch 8, loss 0.20989, accuracy 0.94, learning rate 0.300\n",
            "epoch 9, loss 0.17283, accuracy 0.94, learning rate 0.300\n",
            "epoch 10, loss 0.18512, accuracy 0.95, learning rate 0.300\n",
            "epoch 11, loss 0.14162, accuracy 0.95, learning rate 0.300\n",
            "epoch 12, loss 0.17271, accuracy 0.95, learning rate 0.300\n",
            "epoch 13, loss 0.19656, accuracy 0.96, learning rate 0.300\n",
            "epoch 14, loss 0.14874, accuracy 0.96, learning rate 0.300\n",
            "epoch 15, loss 0.18060, accuracy 0.96, learning rate 0.300\n",
            "epoch 16, loss 0.14858, accuracy 0.96, learning rate 0.300\n",
            "epoch 17, loss 0.10953, accuracy 0.96, learning rate 0.300\n",
            "epoch 18, loss 0.12174, accuracy 0.96, learning rate 0.300\n",
            "epoch 19, loss 0.09746, accuracy 0.97, learning rate 0.300\n"
          ]
        },
        {
          "output_type": "execute_result",
          "data": {
            "text/plain": [
              "0.9663"
            ]
          },
          "metadata": {},
          "execution_count": 52
        },
        {
          "output_type": "display_data",
          "data": {
            "text/plain": [
              "<Figure size 432x288 with 1 Axes>"
            ],
            "image/png": "[encoded data removed]"
          },
          "metadata": {
            "needs_background": "light"
          }
        }
      ],
      "source": [
        "# Here's an example training loop using this two-layer model. Can you do better? \n",
        "learning_rate = 0.3   # initial: 0.01\n",
        "batch_size = 1000     # initial: 10000\n",
        "num_epochs = 20       # initial: 10\n",
        "\n",
        "\n",
        "num_examples = x_train.shape[0]\n",
        "num_batches = int(num_examples / batch_size)\n",
        "losses = numpy.zeros(num_batches*num_epochs,)\n",
        "indices = numpy.arange(num_examples)\n",
        "\n",
        "\n",
        "\n",
        "# INITIALIZE: Make a copy of a fixed initial model for meaningful back-to-back comparisons\n",
        "import copy\n",
        "model = copy.deepcopy(model_fixed)\n",
        "#print(id(model), id(model_fixed))\n",
        "\n",
        "i = 0\n",
        "for epoch in range(0, num_epochs):\n",
        "\n",
        "    # Adjust learning rate\n",
        "    #learning_rate = learning_rate*numpy.exp(-0.01 * epoch)\n",
        "\n",
        "\n",
        "    # in each epoch, we loop over all of the training examples\n",
        "    for step in range(0, num_batches):\n",
        "\n",
        "\n",
        "        # grabbing the next batch\n",
        "        offset = step * batch_size\n",
        "        batch_range = range(offset, offset+batch_size)\n",
        "        x_train_batch = x_train[batch_range, :]\n",
        "        y_train_batch = y_train_onehot[batch_range,:]\n",
        "        \n",
        "        # feed the next batch in to do one sgd step\n",
        "        loss, model = learn(model, x_train_batch, y_train_batch, learning_rate)\n",
        "        losses[i] = loss\n",
        "        i += 1\n",
        "\n",
        "    acc = accuracy(model, x_train, y_train)\n",
        "    print(\"epoch %d, loss %.5f, accuracy %.2f, learning rate %.3f\" % (epoch, loss, acc, learning_rate))\n",
        "    \n",
        "    # reshuffle the data so that we get a new set of batches\n",
        "    numpy.random.shuffle(indices)\n",
        "    x_train = x_train[indices,:]\n",
        "    y_train = y_train[indices] # keep this shuffled the same way for use in accuracy calculation\n",
        "    y_train_onehot = y_train_onehot[indices,:]\n",
        "plt.plot(losses)\n",
        "\n",
        "accuracy(model, x_train, y_train)"
      ]
    }
  ],
  "metadata": {
    "colab": {
      "provenance": []
    },
    "kernelspec": {
      "display_name": "Python 3 (ipykernel)",
      "language": "python",
      "name": "python3"
    },
    "language_info": {
      "codemirror_mode": {
        "name": "ipython",
        "version": 3
      },
      "file_extension": ".py",
      "mimetype": "text/x-python",
      "name": "python",
      "nbconvert_exporter": "python",
      "pygments_lexer": "ipython3",
      "version": "3.9.12"
    }
  },
  "nbformat": 4,
  "nbformat_minor": 5
}